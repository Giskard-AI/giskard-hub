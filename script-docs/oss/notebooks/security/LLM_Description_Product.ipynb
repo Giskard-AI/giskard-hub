{
 "cells": [
  {
   "cell_type": "markdown",
   "metadata": {
    "id": "elkFa-hxYwMV"
   },
   "source": [
    "# LLM product description from keywords\n",
    "\n",
    "Giskard is an open-source framework for testing all ML models, from LLMs to tabular models. Don’t hesitate to give the project a [star on GitHub](https://github.com/Giskard-AI/giskard) ⭐️ if you find it useful!\n",
    "\n",
    "In this notebook, you’ll learn how to create comprehensive test suites for your model in a few lines of code, thanks to Giskard’s open-source Python library.\n",
    "\n",
    "In this example, we illustrate the procedure using **OpenAI Client** that is the default one; however, please note that our platform supports a variety of language models. For details on configuring different models, visit our [🤖 Setting up the LLM Client page](../../sdk/index.rst)\n",
    "\n",
    "In this tutorial we will walk through a practical use case of using the Giskard LLM Scan on a Prompt Chaining task, one step at a time. Given a product name, we will ask the LLM to process 2 chained prompts using `langchain` in order to provide us with a product description. The 2 prompts can be described as follows:\n",
    "\n",
    "1. `keywords_prompt_template`: Based on the product name (given by the user), the LLM has to provide a list of five to ten relevant keywords that would increase product visibility.\n",
    "2. `product_prompt_template`: Based on the given keywords (given as a response to the first prompt), the LLM has to generate a multi-paragraph rich text product description with emojis that is creative and SEO compliant.\n",
    "\n",
    "Use-case:\n",
    "\n",
    "* Two-step product description generation. 1) Keywords generation -> 2) Description generation;\n",
    "\n",
    "Outline:\n",
    "\n",
    "* Detect vulnerabilities automatically with Giskard's scan\n",
    "* Automatically generate & curate a comprehensive test suite to test your model beyond accuracy-related metrics"
   ]
  },
  {
   "cell_type": "markdown",
   "metadata": {
    "collapsed": false,
    "jupyter": {
     "outputs_hidden": false
    }
   },
   "source": [
    "### Install dependencies and setup notebook\n",
    "\n",
    "Make sure to install the `giskard[llm]` flavor of Giskard, which includes support for LLM models.\n",
    "Additionally, we will install `langchain` to define the prompt templates and pipeline logic."
   ]
  },
  {
   "cell_type": "code",
   "execution_count": null,
   "metadata": {
    "collapsed": false,
    "jupyter": {
     "outputs_hidden": false
    }
   },
   "outputs": [],
   "source": [
    "%pip install \"giskard[llm]\"  --upgrade\n",
    "%pip install langchain langchain-community langchain-openai --upgrade"
   ]
  },
  {
   "cell_type": "markdown",
   "metadata": {
    "collapsed": false,
    "jupyter": {
     "outputs_hidden": false
    }
   },
   "source": [
    "Now, let's import all of the libraries that we will use in the notebook."
   ]
  },
  {
   "cell_type": "code",
   "execution_count": 10,
   "metadata": {
    "ExecuteTime": {
     "end_time": "2024-04-19T04:25:09.573125Z",
     "start_time": "2024-04-19T04:25:09.570237Z"
    },
    "collapsed": false,
    "jupyter": {
     "outputs_hidden": false
    }
   },
   "outputs": [],
   "source": [
    "import os\n",
    "from operator import itemgetter\n",
    "\n",
    "import openai\n",
    "import pandas as pd\n",
    "from langchain.prompts import ChatPromptTemplate\n",
    "from langchain_core.output_parsers import StrOutputParser\n",
    "from langchain_openai import ChatOpenAI\n",
    "\n",
    "from giskard import Dataset, Model, scan"
   ]
  },
  {
   "cell_type": "markdown",
   "metadata": {
    "collapsed": false,
    "jupyter": {
     "outputs_hidden": false
    }
   },
   "source": [
    "\n",
    "And, we set the OpenAI API key and display options."
   ]
  },
  {
   "cell_type": "code",
   "execution_count": null,
   "metadata": {
    "ExecuteTime": {
     "end_time": "2024-04-19T04:25:11.048657Z",
     "start_time": "2024-04-19T04:25:11.045546Z"
    },
    "id": "gqRHZcKvgCg0"
   },
   "outputs": [],
   "source": [
    "# Set the OpenAI API Key environment variable.\n",
    "OPENAI_API_KEY = \"...\"\n",
    "openai.api_key = OPENAI_API_KEY\n",
    "os.environ[\"OPENAI_API_KEY\"] = OPENAI_API_KEY\n",
    "\n",
    "# Display options.\n",
    "pd.set_option(\"display.max_colwidth\", None)"
   ]
  },
  {
   "cell_type": "markdown",
   "metadata": {
    "collapsed": false,
    "jupyter": {
     "outputs_hidden": false
    }
   },
   "source": [
    "Lastly, we define some of the constants that we will use in the notebook. \n",
    "Note that we are also defining two prompt templates that we will use to generate the keywords and the product description."
   ]
  },
  {
   "cell_type": "code",
   "execution_count": 11,
   "metadata": {
    "ExecuteTime": {
     "end_time": "2024-04-19T04:25:18.354615Z",
     "start_time": "2024-04-19T04:25:18.350946Z"
    },
    "id": "sXEteRBVgGW1"
   },
   "outputs": [],
   "source": [
    "LLM_MODEL = \"gpt-3.5-turbo\"\n",
    "\n",
    "TEXT_COLUMN_NAME = \"product_name\"\n",
    "\n",
    "# First prompt to generate keywords related to the product name\n",
    "KEYWORDS_PROMPT_TEMPLATE = ChatPromptTemplate.from_messages(\n",
    "    [\n",
    "        (\n",
    "            \"system\",\n",
    "            \"\"\"You are a helpful assistant that generate a CSV list of keywords related to a product name\n",
    "\n",
    "    Example Format:\n",
    "    PRODUCT NAME: product name here\n",
    "    KEYWORDS: keywords separated by commas here\n",
    "\n",
    "    Generate five to ten keywords that would increase product visibility. Begin!\n",
    "\n",
    "    \"\"\",\n",
    "        ),\n",
    "        (\n",
    "            \"human\",\n",
    "            \"\"\"\n",
    "    PRODUCT NAME: {product_name}\n",
    "    KEYWORDS:\"\"\",\n",
    "        ),\n",
    "    ]\n",
    ")\n",
    "\n",
    "# Second chained prompt to generate a description based on the given keywords from the first prompt\n",
    "PRODUCT_PROMPT_TEMPLATE = ChatPromptTemplate.from_messages(\n",
    "    [\n",
    "        (\n",
    "            \"system\",\n",
    "            \"\"\"As a Product Description Generator, generate a multi paragraph rich text product description with emojis based on the information provided in the product name and keywords separated by commas.\n",
    "\n",
    "    Example Format:\n",
    "    PRODUCT NAME: product name here\n",
    "    KEYWORDS: keywords separated by commas here\n",
    "    PRODUCT DESCRIPTION: product description here\n",
    "\n",
    "    Generate a product description that is creative and SEO compliant. Emojis should be added to make product description look appealing. Begin!\n",
    "\n",
    "    \"\"\",\n",
    "        ),\n",
    "        (\n",
    "            \"human\",\n",
    "            \"\"\"\n",
    "    PRODUCT NAME: {product_name}\n",
    "    KEYWORDS: {keywords}\n",
    "    PRODUCT DESCRIPTION:\n",
    "        \"\"\",\n",
    "        ),\n",
    "    ]\n",
    ")"
   ]
  },
  {
   "cell_type": "markdown",
   "metadata": {
    "collapsed": false,
    "jupyter": {
     "outputs_hidden": false
    }
   },
   "source": [
    "## Detect vulnerabilities in your model"
   ]
  },
  {
   "cell_type": "markdown",
   "metadata": {
    "id": "IKwgk5gKN2jI"
   },
   "source": [
    "### Define a generation function\n",
    "\n",
    "To run scans, we need to define a generation function that takes a dataframe as input and returns a list of product descriptions.\n",
    "Using the prompt templates defined earlier we can create two `LLMChain` and concatenate them into a `SequentialChain` that takes as input the product name, and outputs a product description."
   ]
  },
  {
   "cell_type": "code",
   "execution_count": null,
   "metadata": {
    "ExecuteTime": {
     "end_time": "2024-04-19T04:25:21.314931Z",
     "start_time": "2024-04-19T04:25:21.311623Z"
    },
    "id": "MBxfN87aN2Gc"
   },
   "outputs": [],
   "source": [
    "def generation_function(df: pd.DataFrame):\n",
    "    llm = ChatOpenAI(temperature=0.2, model=LLM_MODEL)\n",
    "\n",
    "    # Define the chains.\n",
    "    keywords_chain = KEYWORDS_PROMPT_TEMPLATE | llm | StrOutputParser()\n",
    "    product_description_chain = (\n",
    "        {\"keywords\": keywords_chain, \"product_name\": itemgetter(\"product_name\")}\n",
    "        | PRODUCT_PROMPT_TEMPLATE\n",
    "        | llm\n",
    "        | StrOutputParser()\n",
    "    )\n",
    "\n",
    "    return [\n",
    "        product_description_chain.invoke({\"product_name\": product_name})\n",
    "        for product_name in df[\"product_name\"]\n",
    "    ]"
   ]
  },
  {
   "cell_type": "markdown",
   "metadata": {
    "collapsed": false,
    "jupyter": {
     "outputs_hidden": false
    }
   },
   "source": [
    "### Wrap generation function as Giskard Model\n",
    "\n",
    "Before running the automatic LLM scan, we need to wrap our model into Giskard's `Model` object."
   ]
  },
  {
   "cell_type": "code",
   "execution_count": null,
   "metadata": {
    "ExecuteTime": {
     "end_time": "2024-04-19T04:25:22.759589Z",
     "start_time": "2024-04-19T04:25:22.753586Z"
    },
    "id": "FTGiW_RROFfD"
   },
   "outputs": [],
   "source": [
    "# Wrap the description chain.\n",
    "giskard_model = Model(\n",
    "    model=generation_function,\n",
    "    # A prediction function that encapsulates all the data pre-processing steps and that could be executed with the dataset\n",
    "    model_type=\"text_generation\",  # Either regression, classification or text_generation.\n",
    "    name=\"Product keywords and description generator\",  # Optional.\n",
    "    description=\"Generate product description based on a product's name and the associated keywords.\"\n",
    "    \"Description should be using emojis and being SEO compliant.\",  # Is used to generate prompts\n",
    "    feature_names=[\"product_name\"],  # Default: all columns of your dataset.\n",
    ")"
   ]
  },
  {
   "cell_type": "markdown",
   "metadata": {
    "id": "P8B6L-b0OK7r"
   },
   "source": [
    "### Test your model with a Giskard Dataset\n",
    "\n",
    "We can also optionally create a small dataset of queries to test that the model wrapping worked.\n",
    "Let’s check that the model is correctly wrapped by running it on a small dataset of sample input prompts:"
   ]
  },
  {
   "cell_type": "code",
   "execution_count": null,
   "metadata": {
    "ExecuteTime": {
     "end_time": "2024-04-19T04:25:43.103774Z",
     "start_time": "2024-04-19T04:25:24.818458Z"
    },
    "collapsed": false,
    "jupyter": {
     "outputs_hidden": false
    }
   },
   "outputs": [],
   "source": [
    "# Optional: Wrap a dataframe of sample input prompts to validate the model wrapping and to narrow specific tests' queries.\n",
    "corpus = [\n",
    "    \"Double-Sided Cooking Pan\",\n",
    "    \"Automatic Plant Watering System\",\n",
    "    \"Miniature Exercise Equipment\",\n",
    "]\n",
    "\n",
    "giskard_dataset = Dataset(pd.DataFrame({TEXT_COLUMN_NAME: corpus}), target=None)\n",
    "\n",
    "# Validate the wrapped model and dataset.\n",
    "giskard_model.predict(giskard_dataset).prediction"
   ]
  },
  {
   "cell_type": "markdown",
   "metadata": {
    "id": "AWqawzTlZju0"
   },
   "source": [
    "### Scan your model for vulnerabilities with Giskard\n",
    "\n",
    "We can now run Giskard's `scan` to generate an automatic report about the model vulnerabilities. This will thoroughly test different classes of model vulnerabilities, such as harmfulness, hallucination, prompt injection, etc.\n",
    "\n",
    "The scan will use a mixture of tests from predefined set of examples, heuristics, and LLM based generations and evaluations.\n",
    "\n",
    "Since running the whole scan can take a bit of time, let’s start by limiting the analysis to the hallucination category:"
   ]
  },
  {
   "cell_type": "code",
   "execution_count": 2,
   "metadata": {
    "ExecuteTime": {
     "end_time": "2024-04-19T04:42:39.971586Z",
     "start_time": "2024-04-19T04:25:46.189309Z"
    },
    "collapsed": false,
    "jupyter": {
     "outputs_hidden": false
    }
   },
   "outputs": [
    {
     "ename": "NameError",
     "evalue": "name 'scan' is not defined",
     "output_type": "error",
     "traceback": [
      "\u001b[31m---------------------------------------------------------------------------\u001b[39m",
      "\u001b[31mNameError\u001b[39m                                 Traceback (most recent call last)",
      "\u001b[36mCell\u001b[39m\u001b[36m \u001b[39m\u001b[32mIn[2]\u001b[39m\u001b[32m, line 1\u001b[39m\n\u001b[32m----> \u001b[39m\u001b[32m1\u001b[39m results = \u001b[43mscan\u001b[49m(giskard_model)\n",
      "\u001b[31mNameError\u001b[39m: name 'scan' is not defined"
     ]
    }
   ],
   "source": [
    "results = scan(giskard_model)"
   ]
  },
  {
   "cell_type": "markdown",
   "metadata": {},
   "source": [
    "You can save and share them with your team using the `to_html` and `to_json` methods but for now we will just display the results:"
   ]
  },
  {
   "cell_type": "code",
   "execution_count": 1,
   "metadata": {
    "ExecuteTime": {
     "end_time": "2024-04-19T04:42:40.125121Z",
     "start_time": "2024-04-19T04:42:40.060892Z"
    },
    "collapsed": false,
    "jupyter": {
     "outputs_hidden": false
    }
   },
   "outputs": [
    {
     "ename": "NameError",
     "evalue": "name 'results' is not defined",
     "output_type": "error",
     "traceback": [
      "\u001b[31m---------------------------------------------------------------------------\u001b[39m",
      "\u001b[31mNameError\u001b[39m                                 Traceback (most recent call last)",
      "\u001b[36mCell\u001b[39m\u001b[36m \u001b[39m\u001b[32mIn[1]\u001b[39m\u001b[32m, line 1\u001b[39m\n\u001b[32m----> \u001b[39m\u001b[32m1\u001b[39m display(\u001b[43mresults\u001b[49m)\n",
      "\u001b[31mNameError\u001b[39m: name 'results' is not defined"
     ]
    }
   ],
   "source": [
    "display(results)"
   ]
  },
  {
   "cell_type": "markdown",
   "metadata": {
    "collapsed": false,
    "jupyter": {
     "outputs_hidden": false
    }
   },
   "source": [
    "## Generate comprehensive test suites automatically for your model"
   ]
  },
  {
   "cell_type": "markdown",
   "metadata": {
    "collapsed": false,
    "jupyter": {
     "outputs_hidden": false
    }
   },
   "source": [
    "### Generate test suites from the scan\n",
    "\n",
    "The objects produced by the scan can be used as fixtures to generate a test suite that integrates all detected vulnerabilities. Test suites allow you to evaluate and validate your model's performance, ensuring that it behaves as expected on a set of predefined test cases, and to identify any regressions or issues that might arise during development or updates."
   ]
  },
  {
   "cell_type": "code",
   "execution_count": 35,
   "metadata": {
    "ExecuteTime": {
     "end_time": "2023-11-10T20:26:11.461732Z",
     "start_time": "2023-11-10T20:24:40.785519Z"
    },
    "collapsed": false,
    "jupyter": {
     "outputs_hidden": false
    }
   },
   "outputs": [
    {
     "name": "stdout",
     "output_type": "stream",
     "text": [
      "2025-04-01 10:34:25,535 pid:64854 MainThread giskard.datasets.base INFO     Casting dataframe columns from {'product_name': 'object'} to {'product_name': 'object'}\n",
      "2025-04-01 10:34:25,537 pid:64854 MainThread giskard.utils.logging_utils INFO     Predicted dataset with shape (10, 1) executed in 0:00:00.005036\n",
      "Executed 'Output plausibility' with arguments {'model': <giskard.models.function.PredictionFunctionModel object at 0x325333a70>, 'dataset': <giskard.datasets.base.Dataset object at 0x32cca57f0>}: \n",
      "               Test failed\n",
      "               Metric: 2\n",
      "               \n",
      "               \n",
      "2025-04-01 10:34:41,798 pid:64854 MainThread giskard.datasets.base INFO     Casting dataframe columns from {'product_name': 'object'} to {'product_name': 'object'}\n",
      "2025-04-01 10:34:41,802 pid:64854 MainThread giskard.utils.logging_utils INFO     Predicted dataset with shape (10, 1) executed in 0:00:00.009503\n",
      "2025-04-01 10:34:41,808 pid:64854 MainThread giskard.datasets.base INFO     Casting dataframe columns from {'product_name': 'object'} to {'product_name': 'object'}\n",
      "2025-04-01 10:34:41,810 pid:64854 MainThread giskard.utils.logging_utils INFO     Predicted dataset with shape (10, 1) executed in 0:00:00.006014\n",
      "Executed 'Basic Sycophancy' with arguments {'model': <giskard.models.function.PredictionFunctionModel object at 0x325333a70>, 'dataset_1': <giskard.datasets.base.Dataset object at 0x32cd29730>, 'dataset_2': <giskard.datasets.base.Dataset object at 0x32cd29880>}: \n",
      "               Test failed\n",
      "               Metric: 1\n",
      "               \n",
      "               \n",
      "2025-04-01 10:34:55,905 pid:64854 MainThread giskard.core.suite INFO     Executed test suite 'Test suite generated by scan'\n",
      "2025-04-01 10:34:55,906 pid:64854 MainThread giskard.core.suite INFO     result: failed\n",
      "2025-04-01 10:34:55,906 pid:64854 MainThread giskard.core.suite INFO     Output plausibility ({'model': <giskard.models.function.PredictionFunctionModel object at 0x325333a70>, 'dataset': <giskard.datasets.base.Dataset object at 0x32cca57f0>}): {failed, metric=2}\n",
      "2025-04-01 10:34:55,907 pid:64854 MainThread giskard.core.suite INFO     Basic Sycophancy ({'model': <giskard.models.function.PredictionFunctionModel object at 0x325333a70>, 'dataset_1': <giskard.datasets.base.Dataset object at 0x32cd29730>, 'dataset_2': <giskard.datasets.base.Dataset object at 0x32cd29880>}): {failed, metric=1}\n"
     ]
    },
    {
     "data": {
      "text/html": [
       "\n",
       "<style>\n",
       "    .alert {\n",
       "        padding: 16px;\n",
       "        border-radius: 4px;\n",
       "        display: flex;\n",
       "        align-items: center;\n",
       "        flex-wrap: wrap;\n",
       "        gap: 4px;\n",
       "        margin-bottom: 16px;\n",
       "    }\n",
       "\n",
       "    .test-result {\n",
       "        border-radius: 4px;\n",
       "        padding: 0 12px;\n",
       "        display: flex;\n",
       "        gap: 4px;\n",
       "        align-items: center;\n",
       "    }\n",
       "\n",
       "    .alert-error, .test-card-failed .test-result {\n",
       "        color: rgb(255, 82, 82);\n",
       "        background: rgb(243, 226, 226);\n",
       "        fill: currentcolor;\n",
       "    }\n",
       "\n",
       "    .test-card-error .test-result {\n",
       "        color: #856404;\n",
       "        background: #fff3cd;\n",
       "        fill: currentcolor;\n",
       "    }\n",
       "\n",
       "    .alert-success, .test-card-passed .test-result {\n",
       "        color: rgb(76, 175, 80);\n",
       "        background: rgb(226, 243, 226);\n",
       "        fill: currentcolor;\n",
       "    }\n",
       "\n",
       "    .alert svg {\n",
       "        height: 24px;\n",
       "        width: 24px;\n",
       "        border-radius: 50%;\n",
       "        background: rgba(0, 0, 0, 10%);\n",
       "    }\n",
       "\n",
       "    .test-result svg {\n",
       "        height: 16px;\n",
       "        width: 16px;\n",
       "    }\n",
       "\n",
       "    .card-container {\n",
       "        display: flex;\n",
       "        flex-direction: column;\n",
       "        gap: 16px;\n",
       "    }\n",
       "\n",
       "    .test-card {\n",
       "        border-radius: 4px;\n",
       "        border: 1px solid #e0e0e0;\n",
       "        color: rgb(98, 98, 98);\n",
       "        background: #fff;\n",
       "    }\n",
       "\n",
       "    .param {\n",
       "        display: flex;\n",
       "        flex-direction: column;\n",
       "    }\n",
       "\n",
       "    .test-card .test-name, .test-card .param-value {\n",
       "        color: #000\n",
       "    }\n",
       "\n",
       "    .test-card-row {\n",
       "        padding: 10px;\n",
       "        display: flex;\n",
       "        gap: 20px;\n",
       "        align-items: center;\n",
       "        flex-wrap: wrap;\n",
       "    }\n",
       "\n",
       "    .test-card-row:last-child {\n",
       "        border-top: 1px solid #dee2e6;\n",
       "    }\n",
       "\n",
       "    .spacer {\n",
       "        flex-grow: 1;\n",
       "    }\n",
       "\n",
       "    .test-card-failed .metric {\n",
       "        color: #b71c1c;\n",
       "    }\n",
       "</style>\n",
       "\n",
       "\n",
       "\n",
       "\n",
       "<div class='dark'>\n",
       "    <div id='gsk-suite'>\n",
       "        <div class=\"alert alert-error\">\n",
       "  \n",
       "  <svg xmlns=\"http://www.w3.org/2000/svg\" viewBox=\"0 0 24 24\">\n",
       "    <title>close</title>\n",
       "    <path\n",
       "      d=\"M19,6.41L17.59,5L12,10.59L6.41,5L5,6.41L10.59,12L5,17.59L6.41,19L12,13.41L17.59,19L19,17.59L13.41,12L19,6.41Z\"\n",
       "    />\n",
       "  </svg>\n",
       "  <strong>Test suite failed.</strong>\n",
       "  \n",
       "</div>\n",
       "        <div class='card-container'>\n",
       "  \n",
       "  <div\n",
       "    class='test-card test-card-failed'>\n",
       "    <div class='test-card-row'>\n",
       "      <span class='test-name'>Test Output plausibility</span>\n",
       "      <div class='spacer'></div>\n",
       "      \n",
       "      <span class='metric'>Measured <strong>Metric = 2</strong></span>\n",
       "      \n",
       "      <span class='test-result'>\n",
       "      \n",
       "        <svg xmlns='http://www.w3.org/2000/svg' viewBox='0 0 24 24'><title>close</title>\n",
       "          <path\n",
       "            d='M19,6.41L17.59,5L12,10.59L6.41,5L5,6.41L10.59,12L5,17.59L6.41,19L12,13.41L17.59,19L19,17.59L13.41,12L19,6.41Z' />\n",
       "        </svg>\n",
       "        Failed\n",
       "      \n",
       "    </span>\n",
       "    </div>\n",
       "    <div class='test-card-row'>\n",
       "      \n",
       "      <div class='param'>\n",
       "        <span>model</span>\n",
       "        <span class='param-value'>Product keywords and description generator</span>\n",
       "      </div>\n",
       "      \n",
       "      <div class='param'>\n",
       "        <span>dataset</span>\n",
       "        <span class='param-value'>Implausibility Examples for Product keywords and description generator</span>\n",
       "      </div>\n",
       "      \n",
       "    </div>\n",
       "  </div>\n",
       "  \n",
       "  <div\n",
       "    class='test-card test-card-failed'>\n",
       "    <div class='test-card-row'>\n",
       "      <span class='test-name'>Test Basic Sycophancy</span>\n",
       "      <div class='spacer'></div>\n",
       "      \n",
       "      <span class='metric'>Measured <strong>Metric = 1</strong></span>\n",
       "      \n",
       "      <span class='test-result'>\n",
       "      \n",
       "        <svg xmlns='http://www.w3.org/2000/svg' viewBox='0 0 24 24'><title>close</title>\n",
       "          <path\n",
       "            d='M19,6.41L17.59,5L12,10.59L6.41,5L5,6.41L10.59,12L5,17.59L6.41,19L12,13.41L17.59,19L19,17.59L13.41,12L19,6.41Z' />\n",
       "        </svg>\n",
       "        Failed\n",
       "      \n",
       "    </span>\n",
       "    </div>\n",
       "    <div class='test-card-row'>\n",
       "      \n",
       "      <div class='param'>\n",
       "        <span>model</span>\n",
       "        <span class='param-value'>Product keywords and description generator</span>\n",
       "      </div>\n",
       "      \n",
       "      <div class='param'>\n",
       "        <span>dataset_1</span>\n",
       "        <span class='param-value'>Sycophancy examples for Product keywords and description generator (set 1)</span>\n",
       "      </div>\n",
       "      \n",
       "      <div class='param'>\n",
       "        <span>dataset_2</span>\n",
       "        <span class='param-value'>Sycophancy examples for Product keywords and description generator (set 2)</span>\n",
       "      </div>\n",
       "      \n",
       "    </div>\n",
       "  </div>\n",
       "  \n",
       "</div>\n",
       "    </div>\n",
       "</div>\n"
      ],
      "text/plain": [
       "<TestSuiteResult (failed)>"
      ]
     },
     "execution_count": 35,
     "metadata": {},
     "output_type": "execute_result"
    }
   ],
   "source": [
    "test_suite = results.generate_test_suite(\"Test suite generated by scan\")\n",
    "test_suite.run()"
   ]
  }
 ],
 "metadata": {
  "colab": {
   "provenance": []
  },
  "kernelspec": {
   "display_name": "Python 3 (ipykernel)",
   "language": "python",
   "name": "python3"
  },
  "language_info": {
   "codemirror_mode": {
    "name": "ipython",
    "version": 3
   },
   "file_extension": ".py",
   "mimetype": "text/x-python",
   "name": "python",
   "nbconvert_exporter": "python",
   "pygments_lexer": "ipython3",
   "version": "3.13.7"
  }
 },
 "nbformat": 4,
 "nbformat_minor": 4
}
